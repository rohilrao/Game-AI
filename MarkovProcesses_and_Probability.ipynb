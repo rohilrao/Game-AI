{
 "cells": [
  {
   "cell_type": "code",
   "execution_count": 2,
   "metadata": {},
   "outputs": [],
   "source": [
    "import networkx as nx\n",
    "import numpy as np\n",
    "import numpy as np\n",
    "import numpy.linalg as la\n",
    "import numpy.random as rnd\n",
    "import matplotlib.pyplot as plt\n",
    "from mpl_toolkits.mplot3d import Axes3D\n",
    "import networkx as nx"
   ]
  },
  {
   "cell_type": "markdown",
   "metadata": {},
   "source": [
    "# Probability & Markov processes"
   ]
  },
  {
   "attachments": {},
   "cell_type": "markdown",
   "metadata": {},
   "source": []
  },
  {
   "cell_type": "code",
   "execution_count": 3,
   "metadata": {},
   "outputs": [],
   "source": [
    "################################################# PROBLEM 1 ####################################################################\n",
    "\n",
    "matP = np.array(\n",
    "[[0.12, 0.10, 0.02],\n",
    "[0.80, 0.80, 0.80],\n",
    "[0.08, 0.10, 0.18]])"
   ]
  },
  {
   "cell_type": "code",
   "execution_count": 6,
   "metadata": {},
   "outputs": [
    {
     "data": {
      "text/plain": [
       "0.08"
      ]
     },
     "execution_count": 6,
     "metadata": {},
     "output_type": "execute_result"
    }
   ],
   "source": [
    "### SOLUTION to b)\n",
    "np.round(matP[1][0]*matP[0][1],2)"
   ]
  },
  {
   "cell_type": "code",
   "execution_count": 7,
   "metadata": {},
   "outputs": [
    {
     "data": {
      "text/plain": [
       "-2.53"
      ]
     },
     "execution_count": 7,
     "metadata": {},
     "output_type": "execute_result"
    }
   ],
   "source": [
    "# SOLUTION to c)\n",
    "\n",
    "np.round(np.log(matP[1,0]) + np.log(matP[0,1]),2)"
   ]
  },
  {
   "cell_type": "code",
   "execution_count": 10,
   "metadata": {},
   "outputs": [
    {
     "name": "stdout",
     "output_type": "stream",
     "text": [
      "probability BBBBBBC 0.03\n"
     ]
    }
   ],
   "source": [
    "# 1 D \n",
    "# E2 = B'BBBBB - 5'C\n",
    "\n",
    "print(\"probability BBBBBBC\",np.round((matP[1][1]**tau)*(matP[2][1]),2) )"
   ]
  },
  {
   "cell_type": "code",
   "execution_count": 9,
   "metadata": {},
   "outputs": [
    {
     "name": "stdout",
     "output_type": "stream",
     "text": [
      "probability AAAAAA(!A):  0.0\n",
      "likelihood:  -10.7292\n"
     ]
    }
   ],
   "source": [
    "#1 E3 = A, tau = 5 , C\n",
    "\n",
    "tau = 5\n",
    "print(\"probability AAAAAA(!A): \", np.round((matP[0][0]**tau)*(1-matP[0][0]),4))\n",
    "\n",
    "\n",
    "print(\"likelihood: \" ,np.round(tau*np.log(matP[0,0])+np.log(1 - matP[0,0]),4))"
   ]
  },
  {
   "cell_type": "code",
   "execution_count": null,
   "metadata": {},
   "outputs": [],
   "source": [
    "###################################################### PROBLEM 2 ################################################################"
   ]
  },
  {
   "cell_type": "code",
   "execution_count": 180,
   "metadata": {},
   "outputs": [],
   "source": [
    "matP = np.array(\n",
    "[[0.12, 0.10, 0.02],\n",
    "[0.80, 0.80, 0.80],\n",
    "[0.08, 0.10, 0.18]])\n",
    "\n",
    "states = ['A', 'B', 'C']\n",
    "indices = range(len(states))\n",
    "state2index = dict(zip(states, indices))\n",
    "index2state = dict(zip(indices, states))"
   ]
  },
  {
   "cell_type": "code",
   "execution_count": 181,
   "metadata": {},
   "outputs": [],
   "source": [
    "def generateStateSequence(s, P, tau):\n",
    "    sseq = [s]\n",
    "    iold = state2index[s]\n",
    "    for t in range(tau):\n",
    "        inew = rnd.choice(indices, p=P[:,iold])\n",
    "        sseq.append(index2state[inew])\n",
    "        iold = inew\n",
    "    return sseq"
   ]
  },
  {
   "cell_type": "code",
   "execution_count": 182,
   "metadata": {},
   "outputs": [
    {
     "name": "stdout",
     "output_type": "stream",
     "text": [
      "BCBBBBAABABABBBBBBAC\n"
     ]
    }
   ],
   "source": [
    "####################################### 2. 1\n",
    "\n",
    "sseq = generateStateSequence('B',matP,19)\n",
    "sseq\n",
    "print (''.join(sseq))"
   ]
  },
  {
   "cell_type": "code",
   "execution_count": 183,
   "metadata": {},
   "outputs": [
    {
     "name": "stdout",
     "output_type": "stream",
     "text": [
      "-18.84\n"
     ]
    }
   ],
   "source": [
    "###################################### 2. 2\n",
    "iseq = [state2index[s] for s in sseq]\n",
    "tmax = len(iseq)\n",
    "    \n",
    "like1 = np.sum([ np.log(matP[iseq[t],iseq[t-1]]) for t in range(1,tmax) ])\n",
    "print(np.round(like1,2))"
   ]
  },
  {
   "cell_type": "code",
   "execution_count": 116,
   "metadata": {},
   "outputs": [
    {
     "name": "stdout",
     "output_type": "stream",
     "text": [
      "expectation : -12.0\n",
      "variance: 13.0\n"
     ]
    }
   ],
   "source": [
    "###################################### 2.3   ####### IMPLEMENT TOGETHER\n",
    "\n",
    "# Expectation\n",
    "\n",
    "sum = 0\n",
    "for i in range(10000):\n",
    "    sseq = generateStateSequence('B',matP,19)\n",
    "    iseq = [state2index[s] for s in sseq]\n",
    "    tmax = len(iseq)\n",
    "    \n",
    "    like1 = np.sum([ np.log(matP[iseq[t],iseq[t-1]]) for t in range(1,tmax) ])\n",
    "    sum = sum + like1\n",
    "\n",
    "expec = sum/10000\n",
    "print(\"expectation :\", np.round(expec))\n",
    "\n",
    "varsum = 0\n",
    "\n",
    "for i in range(10000):\n",
    "    sseq = generateStateSequence('B',matP,19)\n",
    "    iseq = [state2index[s] for s in sseq]\n",
    "    tmax = len(iseq)\n",
    "    \n",
    "    like1 = np.sum([ np.log(matP[iseq[t],iseq[t-1]]) for t in range(1,tmax) ])\n",
    "    varsum = varsum + (like1 - expec)**2\n",
    "\n",
    "var = varsum/10000\n",
    "print(\"variance:\",np.round(var,2))"
   ]
  },
  {
   "cell_type": "code",
   "execution_count": null,
   "metadata": {},
   "outputs": [],
   "source": [
    "###################################################### PROBLEM 3 ################################################################"
   ]
  },
  {
   "cell_type": "code",
   "execution_count": 138,
   "metadata": {},
   "outputs": [],
   "source": [
    "data = \"ACAACACAACACAACCCCBCBAAAAACCCABCCCABCAAACACCCCAAACACAACBBBCACCAACAABCCAACCCCACABACACCACCCCCCBACCBACABCCAACCCCCABAAAACABCABCAACAACCBAAACACAAAACCBAAAABCCABCACAABAABAAACACBBABBAC\""
   ]
  },
  {
   "cell_type": "code",
   "execution_count": 148,
   "metadata": {},
   "outputs": [
    {
     "name": "stdout",
     "output_type": "stream",
     "text": [
      "[[0.42 0.44 0.46]\n",
      " [0.17 0.16 0.11]\n",
      " [0.41 0.4  0.42]]\n",
      "[[0.42307692 0.44       0.46478873]\n",
      " [0.16666667 0.16       0.11267606]\n",
      " [0.41025641 0.4        0.42253521]]\n",
      "[1. 1. 1.]\n"
     ]
    }
   ],
   "source": [
    "####################################### 3 a)\n",
    "\n",
    "sseq = list(data)\n",
    "states = ['A', 'B', 'C']\n",
    "indices = range(len(states))\n",
    "state2index = dict(zip(states, indices))\n",
    "index2state = dict(zip(indices, states))\n",
    "iseq = [state2index[s] for s in sseq]\n",
    "\n",
    "def estimateStateTransitions(indices, iseq):\n",
    "    m = len(indices)\n",
    "    P = np.zeros((m,m))\n",
    "    for t in range(1, len(iseq)):\n",
    "        P[iseq[t],iseq[t-1]] += 1.\n",
    "    return P / np.sum(P, axis=0)\n",
    "\n",
    "Pest = estimateStateTransitions(indices, iseq)\n",
    "print(np.round(Pest,2))\n",
    "print(Pest)\n",
    "print(np.sum(Pest,axis = 0))"
   ]
  },
  {
   "cell_type": "code",
   "execution_count": 140,
   "metadata": {},
   "outputs": [
    {
     "name": "stdout",
     "output_type": "stream",
     "text": [
      "-385.0\n"
     ]
    }
   ],
   "source": [
    "###################################### 3 b)\n",
    "\n",
    "iseq = [state2index[s] for s in data]\n",
    "tmax = len(iseq)\n",
    "    \n",
    "like1 = np.sum([ np.log(Pest[iseq[t],iseq[t-1]]) for t in range(1,tmax) ])\n",
    "print(np.round(like1))"
   ]
  },
  {
   "cell_type": "markdown",
   "metadata": {},
   "source": []
  },
  {
   "cell_type": "code",
   "execution_count": null,
   "metadata": {},
   "outputs": [],
   "source": [
    "###################################################### PROBLEM 4 ################################################################"
   ]
  },
  {
   "cell_type": "code",
   "execution_count": 167,
   "metadata": {},
   "outputs": [],
   "source": [
    "mat3 = np.array(\n",
    "[[0.12, 0.10, 0.02],\n",
    "[0.80, 0.80, 0.80],\n",
    "[0.08, 0.10, 0.18]])\n",
    "\n",
    "mat4 = np.array([[0.42, 0.44, 0.46],\n",
    " [0.17, 0.16, 0.11],\n",
    " [0.41, 0.4,  0.42]])"
   ]
  },
  {
   "cell_type": "code",
   "execution_count": 160,
   "metadata": {},
   "outputs": [
    {
     "name": "stdout",
     "output_type": "stream",
     "text": [
      "mat3 vecPI  [0.09 0.8  0.11] \n",
      "\n"
     ]
    },
    {
     "name": "stderr",
     "output_type": "stream",
     "text": [
      "C:\\Users\\rohil\\Anaconda3\\lib\\site-packages\\ipykernel_launcher.py:6: FutureWarning: `rcond` parameter will change to the default of machine precision times ``max(M, N)`` where M and N are the input matrix dimensions.\n",
      "To use the future default and silence this warning we advise to pass `rcond=None`, to keep using the old, explicitly pass `rcond=-1`.\n",
      "  \n"
     ]
    }
   ],
   "source": [
    "matP = mat3\n",
    "m = matP.shape[0]\n",
    "vecB = np.hstack((np.zeros(m), 1))\n",
    "matI = np.eye(m)\n",
    "matA = np.vstack((matI-matP, np.ones(m)))\n",
    "vecPI = la.lstsq(matA, vecB)[0]\n",
    "print(\"mat3 vecPI \",np.round(vecPI,2),'\\n')"
   ]
  },
  {
   "cell_type": "code",
   "execution_count": 161,
   "metadata": {},
   "outputs": [
    {
     "name": "stdout",
     "output_type": "stream",
     "text": [
      "mat4 vecPI  [0.44 0.15 0.41] \n",
      "\n"
     ]
    },
    {
     "name": "stderr",
     "output_type": "stream",
     "text": [
      "C:\\Users\\rohil\\Anaconda3\\lib\\site-packages\\ipykernel_launcher.py:6: FutureWarning: `rcond` parameter will change to the default of machine precision times ``max(M, N)`` where M and N are the input matrix dimensions.\n",
      "To use the future default and silence this warning we advise to pass `rcond=None`, to keep using the old, explicitly pass `rcond=-1`.\n",
      "  \n"
     ]
    }
   ],
   "source": [
    "matP = mat4\n",
    "m = matP.shape[0]\n",
    "vecB = np.hstack((np.zeros(m), 1))\n",
    "matI = np.eye(m)\n",
    "matA = np.vstack((matI-matP, np.ones(m)))\n",
    "vecPI = la.lstsq(matA, vecB)[0]\n",
    "print(\"mat4 vecPI \",np.round(vecPI,2),'\\n')"
   ]
  },
  {
   "cell_type": "code",
   "execution_count": 171,
   "metadata": {},
   "outputs": [
    {
     "name": "stdout",
     "output_type": "stream",
     "text": [
      "4418   1433   4149\n",
      "For lambda 3 room is B\n"
     ]
    }
   ],
   "source": [
    "states = ['A', 'B', 'C']\n",
    "indices = range(len(states))\n",
    "state2index = dict(zip(states, indices))\n",
    "index2state = dict(zip(indices, states))\n",
    "def generateStateSequence(X0, P, tau):\n",
    "    sseq = [X0]\n",
    "    iold = state2index[X0]\n",
    "    for t in range(tau):\n",
    "        inew = rnd.choice(indices, p=P[:,iold])\n",
    "        sseq.append(index2state[inew])\n",
    "        iold = inew\n",
    "    return sseq\n",
    "\n",
    "sumA = 0\n",
    "sumB = 0\n",
    "sumC = 0\n",
    "\n",
    "for i in range(10000):\n",
    "    sequence = generateStateSequence('B', Pest, 20)\n",
    "    if sequence[-1] == 'A':\n",
    "        sumA = sumA + 1\n",
    "    elif sequence[-1] == 'B':\n",
    "        sumB = sumB + 1\n",
    "    elif sequence[-1] == 'C':\n",
    "        sumC = sumC + 1\n",
    "    \n",
    "print(sumA,\" \",sumB,\" \", sumC)\n",
    "\n",
    "print(\"For lambda 3 room is B\")\n",
    "print(\"For lambda 4 room is A\")"
   ]
  },
  {
   "cell_type": "code",
   "execution_count": null,
   "metadata": {},
   "outputs": [],
   "source": []
  },
  {
   "cell_type": "code",
   "execution_count": null,
   "metadata": {},
   "outputs": [],
   "source": [
    "###################################################### PROBLEM 8 ################################################################"
   ]
  },
  {
   "cell_type": "code",
   "execution_count": null,
   "metadata": {},
   "outputs": [],
   "source": []
  }
 ],
 "metadata": {
  "kernelspec": {
   "display_name": "Python 3",
   "language": "python",
   "name": "python3"
  },
  "language_info": {
   "codemirror_mode": {
    "name": "ipython",
    "version": 3
   },
   "file_extension": ".py",
   "mimetype": "text/x-python",
   "name": "python",
   "nbconvert_exporter": "python",
   "pygments_lexer": "ipython3",
   "version": "3.7.4"
  }
 },
 "nbformat": 4,
 "nbformat_minor": 2
}
